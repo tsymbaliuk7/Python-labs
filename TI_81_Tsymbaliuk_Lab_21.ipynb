{
 "cells": [
  {
   "cell_type": "markdown",
   "metadata": {},
   "source": [
    "<div align = \"center\">\n",
    "Міністерство освіти і науки України<br>\n",
    "Національний технічний університет України<br>  \n",
    "\"Київський політехнічний інститут ім. Ігоря Сікорського\"<br>  \n",
    "Теплоенергетичний факультет<br>\n",
    "Кафедра автоматизації проектування енергетичних процесів та систем<br><br><br><br><br><br>       \n",
    "Лабораторна робота №21<br>\n",
    "з курсу<br>\n",
    "\"Основи програмування на скриптових мовах\"<br><br>\n",
    "Варіант №18\n",
    "</div><br><br><br><br><br><br><br><br>\n",
    "<div align = \"right\">\n",
    "Виконав:<br>\n",
    "Студент 2-го курсу<br>  \n",
    "ТЕФ<br>\n",
    "групи ТІ-81<br>  \n",
    "Цимбалюк Д.В.<br><br> \n",
    "Перевірив:<br>  \n",
    "Сігайов А.О.</div>\n",
    "<div align =\"center\"><br><br><br>  \n",
    "Київ КПІ 2019\n",
    "</div>"
   ]
  },
  {
   "cell_type": "markdown",
   "metadata": {},
   "source": [
    "## Варіант 18\n",
    "<br>\n",
    "\n",
    "**Умова завдання:**\n",
    "\n",
    "**Завдання 442**\n",
    "\n",
    "Дані дійсні числа $x_1, y_1,..., x_{10}, y_{10}$. Знайти периметр десятикутника, вершини якого мають відповідно координати $(x_1, y_1),...,(x_{10}, y_{10})$. (Визначити процедуру обчислення відстані між двома точками, заданими своїми координатами)"
   ]
  },
  {
   "cell_type": "code",
   "execution_count": 1,
   "metadata": {},
   "outputs": [
    {
     "name": "stdout",
     "output_type": "stream",
     "text": [
      "[[8.025, 6.829], [-8.953, -3.44], [1.265, -3.072], [-0.822, 3.995], [-3.053, 7.924], [3.502, -3.808], [-3.568, 7.16], [-1.836, -1.988], [-7.605, 1.253], [9.155, -0.024]]\n",
      "Perimeter:  108.124\n"
     ]
    }
   ],
   "source": [
    "from random import uniform\n",
    "from math import sqrt\n",
    "\n",
    "\n",
    "def find_sides(first_point, second_point):\n",
    "    return sqrt((second_point[0] - first_point[0]) ** 2 + (second_point[1] - first_point[1]) ** 2)\n",
    "\n",
    "\n",
    "lst = [[round(uniform(-10, 10), 3) for i in range(2)] for j in range(10)]\n",
    "print(lst)\n",
    "print('Perimeter: ', round(sum([find_sides(lst[i], lst[i+1]) for i in range(9)]) + find_sides(lst[0], lst[9]), 3))\n"
   ]
  }
 ],
 "metadata": {
  "kernelspec": {
   "display_name": "Python 3",
   "language": "python",
   "name": "python3"
  },
  "language_info": {
   "codemirror_mode": {
    "name": "ipython",
    "version": 3
   },
   "file_extension": ".py",
   "mimetype": "text/x-python",
   "name": "python",
   "nbconvert_exporter": "python",
   "pygments_lexer": "ipython3",
   "version": "3.7.3"
  }
 },
 "nbformat": 4,
 "nbformat_minor": 2
}
