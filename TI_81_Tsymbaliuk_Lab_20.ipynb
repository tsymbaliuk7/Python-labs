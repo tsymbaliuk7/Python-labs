{
 "cells": [
  {
   "cell_type": "markdown",
   "metadata": {},
   "source": [
    "<div align = \"center\">\n",
    "Міністерство освіти і науки України<br>\n",
    "Національний технічний університет України<br>  \n",
    "\"Київський політехнічний інститут ім. Ігоря Сікорського\"<br>  \n",
    "Теплоенергетичний факультет<br>\n",
    "Кафедра автоматизації проектування енергетичних процесів та систем<br><br><br><br><br><br>       \n",
    "Лабораторна робота №20<br>\n",
    "з курсу<br>\n",
    "\"Основи програмування на скриптових мовах\"<br><br>\n",
    "Варіант №18\n",
    "</div><br><br><br><br><br><br><br><br>\n",
    "<div align = \"right\">\n",
    "Виконав:<br>\n",
    "Студент 2-го курсу<br>  \n",
    "ТЕФ<br>\n",
    "групи ТІ-81<br>  \n",
    "Цимбалюк Д.В.<br><br> \n",
    "Перевірив:<br>  \n",
    "Сігайов А.О.</div>\n",
    "<div align =\"center\"><br><br><br>  \n",
    "Київ КПІ 2019\n",
    "</div>"
   ]
  },
  {
   "cell_type": "markdown",
   "metadata": {},
   "source": [
    "## Варіант 18\n",
    "<br>\n",
    "\n",
    "**Умова завдання:**\n",
    "\n",
    "**Завдання 392**\n",
    "\n",
    "Дана квадратна матриця цілих чисел порядку 8. Знайти найменше зі значень елементів стовпця, який володіє найбільшою сумою елементів по модулю. Якщо таких стовпців кілька, то взяти перший з них."
   ]
  },
  {
   "cell_type": "code",
   "execution_count": 6,
   "metadata": {},
   "outputs": [
    {
     "name": "stdout",
     "output_type": "stream",
     "text": [
      "[[-34 -33  41  -8  49  37  23 -20]\n",
      " [ 14  29  37  18  -3 -27 -29 -27]\n",
      " [ 22  40  22 -16  34  43 -34  39]\n",
      " [ 31  24 -40 -20   3   7 -16   9]\n",
      " [ -6  10 -30  23  20  16 -38 -40]\n",
      " [-11  -3 -40  50 -13  -8 -28  13]\n",
      " [-49  42 -50  38   1  -1  19  22]\n",
      " [ 38 -10  22  32 -45 -46   9   7]]\n",
      "Min value:  -50\n"
     ]
    }
   ],
   "source": [
    "from random import randint\n",
    "import numpy as np\n",
    "\n",
    "lst = np.array([[randint(-50, 50) for i in range(8)] for j in range(8)])\n",
    "print(lst)\n",
    "abs_sum = [sum([abs(elem[i]) for elem in lst]) for i in range(8)]\n",
    "print('Min value: ', min([elem[abs_sum.index(max(abs_sum))] for elem in lst]))\n",
    "\n"
   ]
  }
 ],
 "metadata": {
  "kernelspec": {
   "display_name": "Python 3",
   "language": "python",
   "name": "python3"
  },
  "language_info": {
   "codemirror_mode": {
    "name": "ipython",
    "version": 3
   },
   "file_extension": ".py",
   "mimetype": "text/x-python",
   "name": "python",
   "nbconvert_exporter": "python",
   "pygments_lexer": "ipython3",
   "version": "3.7.3"
  }
 },
 "nbformat": 4,
 "nbformat_minor": 2
}
