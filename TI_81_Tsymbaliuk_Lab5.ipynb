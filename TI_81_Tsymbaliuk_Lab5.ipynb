{
 "cells": [
  {
   "cell_type": "markdown",
   "metadata": {},
   "source": [
    "<div align = \"center\">\n",
    "Міністерство освіти і науки України<br>\n",
    "Національний технічний університет України<br>  \n",
    "\"Київський політехнічний інститут ім. Ігоря Сікорського\"<br>  \n",
    "Теплоенергетичний факультет<br>\n",
    "Кафедра автоматизації проектування енергетичних процесів та систем<br><br><br><br><br><br>       \n",
    "Лабораторна робота №5<br>\n",
    "з курсу<br>\n",
    "\"Основи програмування на скриптових мовах\"<br><br>\n",
    "Варіант №18\n",
    "</div><br><br><br><br><br><br><br><br>\n",
    "<div align = \"right\">\n",
    "Виконав:<br>\n",
    "Студент 2-го курсу<br>  \n",
    "ТЕФ<br>\n",
    "групи ТІ-81<br>  \n",
    "Цимбалюк Д.В.<br><br> \n",
    "Перевірив:<br>  \n",
    "Сігайов А.О.</div>\n",
    "<div align =\"center\"><br><br><br>  \n",
    "Київ КПІ 2019\n",
    "</div>"
   ]
  },
  {
   "cell_type": "markdown",
   "metadata": {},
   "source": [
    "## Варіант 18\n",
    "<br>\n",
    "\n",
    "**Умова завдання:**\n",
    "\n",
    "78.\n",
    "\n",
    "Дано дійсне число a, натуральне число n.\n",
    "\n",
    "Обчислити:\n",
    "\n",
    "1. $$  a ^ n $$\n",
    "\n",
    "\n",
    "2. $$  a(a+1)...(a+n+1) $$\n",
    "\n",
    "\n",
    "3. $$  { 1 \\over a } + { 1 \\over a(a+1) } + ... + { 1 \\over a(a+1)...(a+n)} $$\n",
    "\n",
    "\n",
    "4. $$ { 1 \\over a } + { 1 \\over a^2 } + { 1 \\over a^4 } + ... + { 1 \\over a^{ 2^n } } $$\n",
    "\n",
    "\n",
    "5. $$ a(a - n)(a-2n)...(a - n^2)$$\n",
    " "
   ]
  },
  {
   "cell_type": "code",
   "execution_count": 13,
   "metadata": {},
   "outputs": [],
   "source": [
    "# задані числа\n",
    "a = 4\n",
    "n = 3\n",
    "\n",
    "def func1():\n",
    "    return a ** n\n",
    "\n",
    "def func2():\n",
    "    res = a\n",
    "    # обраховуємо добуток\n",
    "    for i in range(0, n+1):\n",
    "        res *= (a+i+1)\n",
    "    return res\n",
    "\n",
    "def func3():\n",
    "    sum = 0\n",
    "    step = 1\n",
    "    for i in range(0, n+1):\n",
    "        sum += 1/((a+i)*step)\n",
    "        step *= a+i\n",
    "    # обраховуємо суму \n",
    "    return round(sum, 4)\n",
    "\n",
    "def func4():\n",
    "    # обраховуємо суму\n",
    "    return round(sum(1/(a**(2**i)) for i in range(n+1)), 4)\n",
    "    \n",
    "def func5(x):\n",
    "    if x > n:\n",
    "        return 1\n",
    "    # обраховуємо добуток\n",
    "    return (a - x*n)*func5(x+1)"
   ]
  },
  {
   "cell_type": "code",
   "execution_count": 14,
   "metadata": {},
   "outputs": [
    {
     "data": {
      "text/plain": [
       "64"
      ]
     },
     "execution_count": 14,
     "metadata": {},
     "output_type": "execute_result"
    }
   ],
   "source": [
    "func1()"
   ]
  },
  {
   "cell_type": "code",
   "execution_count": 15,
   "metadata": {},
   "outputs": [
    {
     "data": {
      "text/plain": [
       "6720"
      ]
     },
     "execution_count": 15,
     "metadata": {},
     "output_type": "execute_result"
    }
   ],
   "source": [
    "func2()"
   ]
  },
  {
   "cell_type": "code",
   "execution_count": 16,
   "metadata": {},
   "outputs": [
    {
     "data": {
      "text/plain": [
       "0.3095"
      ]
     },
     "execution_count": 16,
     "metadata": {},
     "output_type": "execute_result"
    }
   ],
   "source": [
    "func3()"
   ]
  },
  {
   "cell_type": "code",
   "execution_count": 17,
   "metadata": {},
   "outputs": [
    {
     "data": {
      "text/plain": [
       "0.3164"
      ]
     },
     "execution_count": 17,
     "metadata": {},
     "output_type": "execute_result"
    }
   ],
   "source": [
    "func4()"
   ]
  },
  {
   "cell_type": "code",
   "execution_count": 18,
   "metadata": {},
   "outputs": [
    {
     "data": {
      "text/plain": [
       "40"
      ]
     },
     "execution_count": 18,
     "metadata": {},
     "output_type": "execute_result"
    }
   ],
   "source": [
    "func5(0)"
   ]
  }
 ],
 "metadata": {
  "kernelspec": {
   "display_name": "Python 3",
   "language": "python",
   "name": "python3"
  },
  "language_info": {
   "codemirror_mode": {
    "name": "ipython",
    "version": 3
   },
   "file_extension": ".py",
   "mimetype": "text/x-python",
   "name": "python",
   "nbconvert_exporter": "python",
   "pygments_lexer": "ipython3",
   "version": "3.7.3"
  },
  "pycharm": {
   "stem_cell": {
    "cell_type": "raw",
    "metadata": {
     "collapsed": false
    },
    "source": [
     "# coding=utf-8"
    ]
   }
  }
 },
 "nbformat": 4,
 "nbformat_minor": 2
}
