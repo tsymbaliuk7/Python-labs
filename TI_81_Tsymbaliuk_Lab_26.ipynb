{
 "cells": [
  {
   "cell_type": "markdown",
   "metadata": {},
   "source": [
    "<div align = \"center\">\n",
    "Міністерство освіти і науки України<br>\n",
    "Національний технічний університет України<br>  \n",
    "\"Київський політехнічний інститут ім. Ігоря Сікорського\"<br>  \n",
    "Теплоенергетичний факультет<br>\n",
    "Кафедра автоматизації проектування енергетичних процесів та систем<br><br><br><br><br><br>       \n",
    "Лабораторна робота №26<br>\n",
    "з курсу<br>\n",
    "\"Основи програмування на скриптових мовах\"<br><br>\n",
    "Варіант №18\n",
    "</div><br><br><br><br><br><br><br><br>\n",
    "<div align = \"right\">\n",
    "Виконав:<br>\n",
    "Студент 2-го курсу<br>  \n",
    "ТЕФ<br>\n",
    "групи ТІ-81<br>  \n",
    "Цимбалюк Д.В.<br><br> \n",
    "Перевірив:<br>  \n",
    "Сігайов А.О.</div>\n",
    "<div align =\"center\"><br><br><br>  \n",
    "Київ КПІ 2019\n",
    "</div>"
   ]
  },
  {
   "cell_type": "markdown",
   "metadata": {},
   "source": [
    "## Варіант 18\n",
    "<br>\n",
    "\n",
    "**Умова завдання:**\n",
    "\n",
    "**Завдання 514.**\n",
    "\n",
    "Данo файл f, що містить відомості про речовини: вказується назва речовини, його питома вага і провідність (провідник, \n",
    "напівпровідник, ізолятор).\n",
    "\n",
    "а) Знайти питому вагу і назву всіх напівпровідників. \n",
    "\n",
    "б) Вибрати дані про провідники і впорядкувати їх за зменшенням питомої ваги."
   ]
  },
  {
   "cell_type": "code",
   "execution_count": 27,
   "metadata": {
    "pycharm": {
     "is_executing": false
    }
   },
   "outputs": [],
   "source": [
    "from random import randint, uniform\n",
    "import pickle\n",
    "\n",
    "conductance = ['conductor', 'semiconductor', 'insulator']\n",
    "with open('TI_81_Tsymbaliuk_Lab_26_file1.txt', 'wb') as f:\n",
    "    substances = {'substance'+str(i): [round(uniform(100, 500)), conductance[randint(0,2)]] for i in range(20)}\n",
    "    pickle.dump(substances, f)"
   ]
  },
  {
   "cell_type": "code",
   "execution_count": 28,
   "outputs": [],
   "source": [
    "with open('TI_81_Tsymbaliuk_Lab_26_file1.txt', 'rb') as f1, open('TI_81_Tsymbaliuk_Lab_26_file2.txt', 'w') as f2:\n",
    "    subst = pickle.load(f1)\n",
    "    result = {elem: subst.get(elem) for elem in subst if subst.get(elem)[1] == conductance[1]}\n",
    "    f2.write('1)\\n')\n",
    "    for elem in result:\n",
    "        f2.write(elem + ' ' + str(result.get(elem)[0]) + '\\n')\n",
    "    result = sorted({elem: subst.get(elem) for elem in subst if subst.get(elem)[1] == conductance[0]}.items(), \n",
    "                    key = lambda x: x[1], reverse=True)\n",
    "    f2.write('2)\\n')\n",
    "    for elem in result:\n",
    "        f2.write(elem[0] + ' ' + str(elem[1][0]) + '\\n')\n",
    "    "
   ],
   "metadata": {
    "collapsed": false,
    "pycharm": {
     "name": "#%%\n",
     "is_executing": false
    }
   }
  }
 ],
 "metadata": {
  "kernelspec": {
   "display_name": "Python 3",
   "language": "python",
   "name": "python3"
  },
  "language_info": {
   "codemirror_mode": {
    "name": "ipython",
    "version": 3
   },
   "file_extension": ".py",
   "mimetype": "text/x-python",
   "name": "python",
   "nbconvert_exporter": "python",
   "pygments_lexer": "ipython3",
   "version": "3.7.3"
  },
  "pycharm": {
   "stem_cell": {
    "cell_type": "raw",
    "source": [],
    "metadata": {
     "collapsed": false
    }
   }
  }
 },
 "nbformat": 4,
 "nbformat_minor": 2
}