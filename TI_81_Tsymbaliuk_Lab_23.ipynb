{
 "cells": [
  {
   "cell_type": "markdown",
   "metadata": {},
   "source": [
    "<div align = \"center\">\n",
    "Міністерство освіти і науки України<br>\n",
    "Національний технічний університет України<br>  \n",
    "\"Київський політехнічний інститут ім. Ігоря Сікорського\"<br>  \n",
    "Теплоенергетичний факультет<br>\n",
    "Кафедра автоматизації проектування енергетичних процесів та систем<br><br><br><br><br><br>       \n",
    "Лабораторна робота №23<br>\n",
    "з курсу<br>\n",
    "\"Основи програмування на скриптових мовах\"<br><br>\n",
    "Варіант №18\n",
    "</div><br><br><br><br><br><br><br><br>\n",
    "<div align = \"right\">\n",
    "Виконав:<br>\n",
    "Студент 2-го курсу<br>  \n",
    "ТЕФ<br>\n",
    "групи ТІ-81<br>  \n",
    "Цимбалюк Д.В.<br><br> \n",
    "Перевірив:<br>  \n",
    "Сігайов А.О.</div>\n",
    "<div align =\"center\"><br><br><br>  \n",
    "Київ КПІ 2019\n",
    "</div>"
   ]
  },
  {
   "cell_type": "markdown",
   "metadata": {},
   "source": [
    "## Варіант 18\n",
    "<br>\n",
    "\n",
    "**Умова завдання:**\n",
    "\n",
    "**Завдання 488**\n",
    "\n",
    "Дано файл f, компоненти якого є цілими числами. Жоден компонент не дорівнює нулю. Файл f має однакову кількість додатніх і від'ємних елементів. Використовуючи допоміжний список або словник, переписати компоненти файла f в файл g так, щоб в файлі g:\n",
    "\n",
    "1) не було двух сусідніх чисел з одним знаком;\n",
    "\n",
    "2) спочатку йшли додатні, а потім від'ємні числа;\n",
    "\n",
    "3) числа йшли в наступному порядку: два додатніх, два від'ємних, два додатніх і т.д. (припускається, що кількість компонентів файлу f ділиться на 4)"
   ]
  },
  {
   "cell_type": "code",
   "execution_count": 18,
   "metadata": {},
   "outputs": [],
   "source": [
    "import random\n",
    "\n",
    "#заповнюємо файл\n",
    "lst = sum([[random.randint(-30, -1), random.randint(1, 30)] for i in range(10)], [])\n",
    "random.shuffle(lst)\n",
    "with open('lab23', 'w') as f:\n",
    "    for elem in lst:\n",
    "        f.write(str(elem) + ' ')\n",
    "#добуваємо значення з файлу\n",
    "f = open('lab23', 'r')\n",
    "temp = f.readline().split(' ')\n",
    "f.close()\n",
    "temp.remove('')\n",
    "temp.sort(reverse=True)"
   ]
  },
  {
   "cell_type": "code",
   "execution_count": 19,
   "metadata": {},
   "outputs": [],
   "source": [
    "#1\n",
    "res = sum(zip([i for i in temp[:int(len(temp)/2)]], [i for i in temp[int(len(temp)/2):len(temp)]]), ())\n",
    "with open('lab23_1', 'w') as g:\n",
    "    for elem in res:\n",
    "        g.write(elem + ' ')"
   ]
  },
  {
   "cell_type": "code",
   "execution_count": 20,
   "metadata": {},
   "outputs": [],
   "source": [
    "#2\n",
    "with open('lab23_2', 'w') as g:\n",
    "    for elem in temp:\n",
    "        g.write(elem + ' ')"
   ]
  },
  {
   "cell_type": "code",
   "execution_count": 21,
   "metadata": {},
   "outputs": [],
   "source": [
    "#3\n",
    "pos = [[temp[i], temp[i+1]] for i in range(0, int(len(temp)/2), 2)]\n",
    "neg = [[temp[i], temp[i+1]] for i in range(int(len(temp)/2), len(temp), 2)]\n",
    "res = sum(sum(zip(pos, neg), ()), [])\n",
    "with open('lab23_3', 'w') as g:\n",
    "    for elem in res:\n",
    "        g.write(elem + ' ')"
   ]
  }
 ],
 "metadata": {
  "kernelspec": {
   "display_name": "Python 3",
   "language": "python",
   "name": "python3"
  },
  "language_info": {
   "codemirror_mode": {
    "name": "ipython",
    "version": 3
   },
   "file_extension": ".py",
   "mimetype": "text/x-python",
   "name": "python",
   "nbconvert_exporter": "python",
   "pygments_lexer": "ipython3",
   "version": "3.7.3"
  }
 },
 "nbformat": 4,
 "nbformat_minor": 2
}
