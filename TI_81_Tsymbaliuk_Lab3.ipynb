{
 "cells": [
  {
   "cell_type": "markdown",
   "metadata": {},
   "source": [
    "<div align = \"center\">\n",
    "Міністерство освіти і науки України<br>\n",
    "Національний технічний університет України<br>  \n",
    "\"Київський політехнічний інститут ім. Ігоря Сікорського\"<br>  \n",
    "Теплоенергетичний факультет<br>\n",
    "Кафедра автоматизації проектування енергетичних процесів та систем<br><br><br><br><br><br>       \n",
    "Лабораторна робота №3<br>\n",
    "з курсу<br>\n",
    "\"Основи програмування на скриптових мовах\"<br><br>\n",
    "Варіант №18\n",
    "</div><br><br><br><br><br><br><br><br>\n",
    "<div align = \"right\">\n",
    "Виконав:<br>\n",
    "Студент 2-го курсу<br>  \n",
    "ТЕФ<br>\n",
    "групи ТІ-81<br>  \n",
    "Цимбалюк Д.В.<br><br> \n",
    "Перевірив:<br>  \n",
    "Сігайов А.О.</div>\n",
    "<div align =\"center\"><br><br><br>  \n",
    "Київ КПІ 2019\n",
    "</div>"
   ]
  },
  {
   "cell_type": "markdown",
   "metadata": {},
   "source": [
    "## Варіант 18\n",
    "<br>\n",
    "\n",
    "**Умова завдання:**\n",
    "\n",
    "269.\n",
    "\n",
    "Дано натуральне число n, символи s1, ..., sn. Групи символів, розділені пробілами (одним або декількома) і не містять пробілів всередині себе, будемо називати словами.\n",
    "\n",
    "а) Підрахувати кількість слів у даній послідовності. \n",
    "\n",
    "б) Підрахувати кількість букв а в останньому слові даної послідовності.\n",
    "\n",
    "в) Знайти кількість слів, що починаються з літери b.\n",
    "\n",
    "г) Знайти кількість слів, у яких перший і останній символи збігаються між собою.\n",
    "\n",
    "д) Знайти якесь слово, що починається з букви а.\n",
    "\n",
    "е) Перетворити цю послідовність, замінюючи кожне входження слова це на слово то.\n",
    "\n",
    "ж) Знайти довжину найкоротшого слова."
   ]
  },
  {
   "cell_type": "code",
   "execution_count": 160,
   "metadata": {},
   "outputs": [],
   "source": [
    "# задана строка і розмір\n",
    "string = 'Hello world this is a test bye apple'\n",
    "num = len(string)\n",
    "\n",
    "\n",
    "# підрахунок кількості слів\n",
    "def number_of_words():\n",
    "    # виправляємо строку від лишніх пробілів\n",
    "    fixed_string = ' '.join(string.split())\n",
    "    words = fixed_string.split(' ')\n",
    "    print('There are ', len(words), ' words in string\\n')\n",
    "\n",
    "# підрахунок кількості літер \"а\" у останньому слові\n",
    "def count_a():\n",
    "    fixed_string = ' '.join(string.split())\n",
    "    words = fixed_string.split(' ')\n",
    "    x = words[len(words) - 1].count('a')\n",
    "    print('There is(are) ', x, 'letter(s) \\\"a\\\" in the last word of string\\n')\n",
    "\n",
    "# підрахунок кількості слів, які починаються на \"b\"\n",
    "def starts_with_b():\n",
    "    fixed_string = ' '.join(string.split())\n",
    "    words = fixed_string.split(' ')\n",
    "    counter = 0\n",
    "    for word in words:\n",
    "        if word.startswith('b'): \n",
    "            counter += 1\n",
    "    print('There are ', counter,' words witch starts with \\\"b\\\"\\n')\n",
    "    \n",
    "# підрахунок кількості слів, які починаються і закінчуються на однаковий символ\n",
    "def start_equals_end():\n",
    "    fixed_string = ' '.join(string.split())\n",
    "    words = fixed_string.split(' ')\n",
    "    counter = 0\n",
    "    for word in words:\n",
    "        if word.endswith(word[0]): \n",
    "            counter += 1\n",
    "    print('There are ', counter,' such words\\n')\n",
    "    \n",
    "# знаходження слів які починаються на \"а\"\n",
    "def starts_with_a():\n",
    "    fixed_string = ' '.join(string.split())\n",
    "    words = fixed_string.split(' ')\n",
    "    for word in words:\n",
    "        if word[0] == 'a': \n",
    "            print(word, ' ')\n",
    "\n",
    "# заміна усіх this на it\n",
    "def change_this():\n",
    "    fixed_string = ' '.join(string.split())\n",
    "    result = fixed_string.replace('this', 'it')\n",
    "    print(result)\n",
    "\n",
    "# знаходження довжини мінімального слова\n",
    "def min_word():\n",
    "    fixed_string = ' '.join(string.split())\n",
    "    words = fixed_string.split(' ')\n",
    "    min_index = 0\n",
    "    for word in words:\n",
    "        if len(word) < len(words[min_index]): \n",
    "            min_index = words.index(word)\n",
    "    print('The shortest word is ', len(words[min_index]), \"characters long\\n\")\n",
    "    "
   ]
  },
  {
   "cell_type": "code",
   "execution_count": 161,
   "metadata": {},
   "outputs": [
    {
     "name": "stdout",
     "output_type": "stream",
     "text": [
      "There are  8  words in string\n",
      "\n"
     ]
    }
   ],
   "source": [
    "number_of_words()"
   ]
  },
  {
   "cell_type": "code",
   "execution_count": 162,
   "metadata": {},
   "outputs": [
    {
     "name": "stdout",
     "output_type": "stream",
     "text": [
      "There is(are)  1 letter(s) \"a\" in the last word of string\n",
      "\n"
     ]
    }
   ],
   "source": [
    "count_a()"
   ]
  },
  {
   "cell_type": "code",
   "execution_count": 163,
   "metadata": {},
   "outputs": [
    {
     "name": "stdout",
     "output_type": "stream",
     "text": [
      "There are  1  words witch starts with \"b\"\n",
      "\n"
     ]
    }
   ],
   "source": [
    "starts_with_b()"
   ]
  },
  {
   "cell_type": "code",
   "execution_count": 164,
   "metadata": {},
   "outputs": [
    {
     "name": "stdout",
     "output_type": "stream",
     "text": [
      "There are  2  such words\n",
      "\n"
     ]
    }
   ],
   "source": [
    "start_equals_end()"
   ]
  },
  {
   "cell_type": "code",
   "execution_count": 165,
   "metadata": {},
   "outputs": [
    {
     "name": "stdout",
     "output_type": "stream",
     "text": [
      "a apple "
     ]
    }
   ],
   "source": [
    "starts_with_a()"
   ]
  },
  {
   "cell_type": "code",
   "execution_count": 166,
   "metadata": {},
   "outputs": [
    {
     "name": "stdout",
     "output_type": "stream",
     "text": [
      "Hello world it is a test bye apple\n"
     ]
    }
   ],
   "source": [
    "change_this()"
   ]
  },
  {
   "cell_type": "code",
   "execution_count": 167,
   "metadata": {},
   "outputs": [
    {
     "name": "stdout",
     "output_type": "stream",
     "text": [
      "The shortest word is  1 characters long\n",
      "\n"
     ]
    }
   ],
   "source": [
    "min_word()"
   ]
  }
 ],
 "metadata": {
  "kernelspec": {
   "display_name": "Python 3",
   "language": "python",
   "name": "python3"
  },
  "language_info": {
   "codemirror_mode": {
    "name": "ipython",
    "version": 3
   },
   "file_extension": ".py",
   "mimetype": "text/x-python",
   "name": "python",
   "nbconvert_exporter": "python",
   "pygments_lexer": "ipython3",
   "version": "3.7.3"
  },
  "pycharm": {
   "stem_cell": {
    "cell_type": "raw",
    "metadata": {
     "collapsed": false
    },
    "source": [
     "# coding=utf-8"
    ]
   }
  }
 },
 "nbformat": 4,
 "nbformat_minor": 2
}
