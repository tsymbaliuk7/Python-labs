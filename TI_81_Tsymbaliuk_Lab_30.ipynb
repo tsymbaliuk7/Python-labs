{
 "cells": [
  {
   "cell_type": "markdown",
   "metadata": {},
   "source": [
    "<div align = \"center\">\n",
    "Міністерство освіти і науки України<br>\n",
    "Національний технічний університет України<br>  \n",
    "\"Київський політехнічний інститут ім. Ігоря Сікорського\"<br>  \n",
    "Теплоенергетичний факультет<br>\n",
    "Кафедра автоматизації проектування енергетичних процесів та систем<br><br><br><br><br><br>       \n",
    "Лабораторна робота №30<br>\n",
    "з курсу<br>\n",
    "\"Основи програмування на скриптових мовах\"<br><br>\n",
    "Варіант №18\n",
    "</div><br><br><br><br><br><br><br><br>\n",
    "<div align = \"right\">\n",
    "Виконав:<br>\n",
    "Студент 2-го курсу<br>  \n",
    "ТЕФ<br>\n",
    "групи ТІ-81<br>  \n",
    "Цимбалюк Д.В.<br><br> \n",
    "Перевірив:<br>  \n",
    "Сігайов А.О.</div>\n",
    "<div align =\"center\"><br><br><br>  \n",
    "Київ КПІ 2019\n",
    "</div>"
   ]
  },
  {
   "cell_type": "markdown",
   "metadata": {},
   "source": [
    "## Варіант 18\n",
    "<br>\n",
    "\n",
    "**Умова завдання:**\n",
    "\n",
    "**Завдання 676.**\n",
    "Дана матриця цілих чисел розміром 6x9. Знайти матрицю, яка утворюється з даної: \n",
    "\n",
    "а) перестановкою стовпчиків - першого з останнім, другого з передостаннім і т. д; \n",
    "\n",
    "б) перестановкою рядків - першого до останнім, другого - з передостаннім і т. д.\n"
   ]
  },
  {
   "cell_type": "code",
   "execution_count": 6,
   "metadata": {
    "pycharm": {
     "is_executing": false,
     "name": "#%%\n"
    }
   },
   "outputs": [
    {
     "name": "stdout",
     "text": [
      "[[ -8  -5   3  10  -4   3   5  -9 -10]\n [ -9   0  -6   9  -4  -2   6   1  -8]\n [  4  -1   3   8  -2 -10 -10  -9   7]\n [ -4   8  -4  -6   5  -2  -2  -1  -5]\n [ -7  -7   4   5   2 -10   4   5   9]\n [  6  -8   6   0   3   6   9   5   4]] \n\nA: \n\n[[-10  -9   5   3  -4  10   3  -5  -8]\n [ -8   1   6  -2  -4   9  -6   0  -9]\n [  7  -9 -10 -10  -2   8   3  -1   4]\n [ -5  -1  -2  -2   5  -6  -4   8  -4]\n [  9   5   4 -10   2   5   4  -7  -7]\n [  4   5   9   6   3   0   6  -8   6]]\nB: \n\n[[  6  -8   6   0   3   6   9   5   4]\n [ -7  -7   4   5   2 -10   4   5   9]\n [ -4   8  -4  -6   5  -2  -2  -1  -5]\n [  4  -1   3   8  -2 -10 -10  -9   7]\n [ -9   0  -6   9  -4  -2   6   1  -8]\n [ -8  -5   3  10  -4   3   5  -9 -10]]\n"
     ],
     "output_type": "stream"
    }
   ],
   "source": [
    "from random import  randint\n",
    "import numpy as np \n",
    "M = np.array([[randint(-10, 10) for i in range(9)] for j in range(6)])\n",
    "print(M, '\\n')\n",
    "A = np.flip(M, 1)\n",
    "print('A: \\n')\n",
    "print(A)\n",
    "B = np.flip(M, 0)\n",
    "print('B: \\n')\n",
    "print(B)"
   ]
  },
  {
   "cell_type": "markdown",
   "source": [
    "**Умова завдання:**\n",
    "\n",
    "**Завдання 714.**\n",
    "\n",
    "\n",
    "Комплексна матриця $Z$ представляється парою $X$, $Y$ дійсних матриць так, що $Z = X - iY$. Дано дійсні квадратні матриці\n",
    " $A$, $В$, $С$ і $D$ порядку $n$. Знайти добуток двох комплексних матриць $A + iB$ і $C + iD$, тобто знайти дійсні\n",
    "  квадратні матриці $X$ і $Y$ порядку n такі, що $X + iY = (A + iB) (С + iD)$.\n"
   ],
   "metadata": {
    "collapsed": false
   }
  },
  {
   "cell_type": "code",
   "execution_count": 41,
   "outputs": [
    {
     "name": "stdout",
     "text": [
      "[[ -6 -18   0  -1  12]\n [ 15  16 -27  22   1]\n [ 12 -16 -26  16   1]\n [ -2   5  24 -22  13]\n [ -2  -1  30   5  -9]] \n\n [[ -1   5  26   2   3]\n [-23  24  30  -3   4]\n [ 28 -29  28  11   4]\n [-16 -22 -21  18 -20]\n [  1  30 -27 -23  24]] \n\n [[ 24  27  24 -21  13]\n [-24  11   9  -2  14]\n [  1   0  -8  23   3]\n [ 20  -3  22   3 -16]\n [-17 -20  19  30  -7]] \n\n [[ 29   8  28 -24  16]\n [ -9  21  13 -11   4]\n [ 29  24 -11   0  26]\n [ -1  29 -24  11 -23]\n [-18   7   3  19 -18]] \n\n\n[[ -560. -356.j -1397. -409.j   188. -428.j   471.+1264.j  -978. -279.j]\n [  454.-1758.j  -486.  +25.j  1801. -166.j -1203. +961.j  -526. -775.j]\n [ -853.+1252.j  -554.  -69.j   876. +538.j  -584. +350.j -1144.-1096.j]\n [ -272.+1204.j   519. -210.j   563.  -86.j   464. -651.j  1321. +157.j]\n [ 1692. -613.j   609. +711.j -1697.  -86.j   630. -108.j   502.+1343.j]]\nX:\n [[ -560. -1397.   188.   471.  -978.]\n [  454.  -486.  1801. -1203.  -526.]\n [ -853.  -554.   876.  -584. -1144.]\n [ -272.   519.   563.   464.  1321.]\n [ 1692.   609. -1697.   630.   502.]]\nY:\n [[ -356.  -409.  -428.  1264.  -279.]\n [-1758.    25.  -166.   961.  -775.]\n [ 1252.   -69.   538.   350. -1096.]\n [ 1204.  -210.   -86.  -651.   157.]\n [ -613.   711.   -86.  -108.  1343.]]\n"
     ],
     "output_type": "stream"
    }
   ],
   "source": [
    "import numpy as np\n",
    "from random import randint\n",
    "\n",
    "def main():\n",
    "    n = int(input('Enter n: '))\n",
    "    a = np.array([[randint(-30, 30) for i in range(n)] for j in range(n)])\n",
    "    b = np.array([[randint(-30, 30) for i in range(n)] for j in range(n)])\n",
    "    c = np.array([[randint(-30, 30) for i in range(n)] for j in range(n)])\n",
    "    d = np.array([[randint(-30, 30) for i in range(n)] for j in range(n)])\n",
    "    print(a, '\\n\\n', b, '\\n\\n', c, '\\n\\n', d, '\\n\\n')\n",
    "    AB = np.array([[complex(a[i][j], b[i][j]) for j in range(n)] for i in range(n)])\n",
    "    CD = np.array([[complex(c[i][j], d[i][j]) for j in range(n)] for i in range(n)])\n",
    "    XY = np.dot(AB, CD)\n",
    "    print(XY)\n",
    "    x = np.array([[ XY[j][i].real for i in range(n)] for j in range(n)])\n",
    "    y = np.array([[ XY[j][i].imag for i in range(n)] for j in range(n)])\n",
    "    print('X:\\n', x)\n",
    "    print('Y:\\n', y)\n",
    "\n",
    "if __name__ == '__main__':\n",
    "    try:\n",
    "        main()\n",
    "    except ValueError:\n",
    "        print('n should be positive integer')"
   ],
   "metadata": {
    "collapsed": false,
    "pycharm": {
     "name": "#%%\n",
     "is_executing": false
    }
   }
  }
 ],
 "metadata": {
  "kernelspec": {
   "display_name": "Python 3",
   "language": "python",
   "name": "python3"
  },
  "language_info": {
   "codemirror_mode": {
    "name": "ipython",
    "version": 3
   },
   "file_extension": ".py",
   "mimetype": "text/x-python",
   "name": "python",
   "nbconvert_exporter": "python",
   "pygments_lexer": "ipython3",
   "version": "3.7.3"
  },
  "pycharm": {
   "stem_cell": {
    "cell_type": "raw",
    "source": [],
    "metadata": {
     "collapsed": false
    }
   }
  }
 },
 "nbformat": 4,
 "nbformat_minor": 2
}