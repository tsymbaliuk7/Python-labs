{
 "cells": [
  {
   "cell_type": "markdown",
   "metadata": {},
   "source": [
    "<div align = \"center\">\n",
    "Міністерство освіти і науки України<br>\n",
    "Національний технічний університет України<br>  \n",
    "\"Київський політехнічний інститут ім. Ігоря Сікорського\"<br>  \n",
    "Теплоенергетичний факультет<br>\n",
    "Кафедра автоматизації проектування енергетичних процесів та систем<br><br><br><br><br><br>       \n",
    "Лабораторна робота №4<br>\n",
    "з курсу<br>\n",
    "\"Основи програмування на скриптових мовах\"<br><br>\n",
    "Варіант №18\n",
    "</div><br><br><br><br><br><br><br><br>\n",
    "<div align = \"right\">\n",
    "Виконав:<br>\n",
    "Студент 2-го курсу<br>  \n",
    "ТЕФ<br>\n",
    "групи ТІ-81<br>  \n",
    "Цимбалюк Д.В.<br><br> \n",
    "Перевірив:<br>  \n",
    "Сігайов А.О.</div>\n",
    "<div align =\"center\"><br><br><br>  \n",
    "Київ КПІ 2019\n",
    "</div>"
   ]
  },
  {
   "cell_type": "markdown",
   "metadata": {},
   "source": [
    "## Варіант 18\n",
    "<br>\n",
    "\n",
    "**Умова завдання:**\n",
    "\n",
    "817.\n",
    "    Для більшості іменників, які закінчуються на - онок та -енок, множина утворюється від іншої основи. Як правило, це\n",
    "     відбувається за зразком: курча-курчата, мишонок-мишата і т.д. (В новій основі перед останньою буквою т пишеться а чи я в залежності від попередньої літери: якщо це шипляча, то а, інакше - я). Є слова-винятки, з яких вкажемо такі: дитина (діти), бісеня (бісики), опеньок (опеньки), дзвінок (дзвінки), хребець (хребці), покидьок (покидьки), колонок (колонки), жайворонок (жайворонки), бочонок (барила). Є ще ряд маловживаних слів-винятків, які ми не розглядаємо.\n",
    "    Дано текст, серед символів якого є пробіл. Група символів, що передує першому пробілу, являє собою російське слово, закінчується на -онок або -енок. Отримати це слово у множині.\n"
   ]
  },
  {
   "cell_type": "code",
   "execution_count": 5,
   "metadata": {},
   "outputs": [],
   "source": [
    "# початковий текст\n",
    "text = 'мышонок во дворе вечером'\n",
    "\n",
    "# словник слів-винятків\n",
    "exceptions = {'ребенок' : 'дети', 'бесенок' : 'бесенята', 'опенок' : 'опята', 'звонок' : \"звонки\",\n",
    "            'позвонок' : 'позвонки', 'подонок' : 'подонки', 'колонок' : 'колонки', 'жаворонок' : 'жаворонки',\n",
    "            'бочонок' : 'бочонки'}\n",
    "# шипячі літери\n",
    "hissing_letters = ['щ', 'ш', 'ч', 'ж']\n",
    "\n",
    "def make_plural():\n",
    "    # поділяєм текст на слова\n",
    "    words = text.split(' ')\n",
    "    # перевірємо наявність потрібного закінчення\n",
    "    if not words[0].endswith('онок') and not words[0].endswith('енок'): \n",
    "        print('Слово имеет другое окончание')\n",
    "    else:\n",
    "        # перевіряємо чи є слово - винятком\n",
    "        for word in exceptions:\n",
    "            if words[0] == word:\n",
    "                words.pop(0)\n",
    "                # якщо слово вийняток - виводимо результат \n",
    "                result = exceptions[word] + ' ' + ' '.join(words)\n",
    "                return result\n",
    "        # шукаєм місце початку закінчення\n",
    "        end_index = max(words[0].find('онок'), words[0].find('енок'))\n",
    "        first_word = words[0]\n",
    "        words.pop(0)\n",
    "        # перевіряємо чи шипяча літера\n",
    "        for h_letter in hissing_letters:\n",
    "            if first_word[end_index - 1] == h_letter:\n",
    "                # виводимо результат\n",
    "                result = first_word[ : end_index] + 'ата ' + ' '.join(words)\n",
    "                return result\n",
    "        result = first_word[ : end_index] + 'ята ' + ' '.join(words)\n",
    "        return result\n",
    "                \n",
    "        \n",
    "        "
   ]
  },
  {
   "cell_type": "code",
   "execution_count": 6,
   "metadata": {},
   "outputs": [
    {
     "data": {
      "text/plain": [
       "'мышата во дворе вечером'"
      ]
     },
     "execution_count": 6,
     "metadata": {},
     "output_type": "execute_result"
    }
   ],
   "source": [
    "make_plural()"
   ]
  }
 ],
 "metadata": {
  "kernelspec": {
   "display_name": "Python 3",
   "language": "python",
   "name": "python3"
  },
  "language_info": {
   "codemirror_mode": {
    "name": "ipython",
    "version": 3
   },
   "file_extension": ".py",
   "mimetype": "text/x-python",
   "name": "python",
   "nbconvert_exporter": "python",
   "pygments_lexer": "ipython3",
   "version": "3.7.3"
  },
  "pycharm": {
   "stem_cell": {
    "cell_type": "raw",
    "source": [
     "# coding=utf-8"
    ],
    "metadata": {
     "collapsed": false
    }
   }
  }
 },
 "nbformat": 4,
 "nbformat_minor": 2
}