{
 "cells": [
  {
   "cell_type": "markdown",
   "metadata": {},
   "source": [
    "<div align = \"center\">\n",
    "Міністерство освіти і науки України<br>\n",
    "Національний технічний університет України<br>  \n",
    "\"Київський політехнічний інститут ім. Ігоря Сікорського\"<br>  \n",
    "Теплоенергетичний факультет<br>\n",
    "Кафедра автоматизації проектування енергетичних процесів та систем<br><br><br><br><br><br>       \n",
    "Лабораторна робота №18<br>\n",
    "з курсу<br>\n",
    "\"Основи програмування на скриптових мовах\"<br><br>\n",
    "Варіант №18\n",
    "</div><br><br><br><br><br><br><br><br>\n",
    "<div align = \"right\">\n",
    "Виконав:<br>\n",
    "Студент 2-го курсу<br>  \n",
    "ТЕФ<br>\n",
    "групи ТІ-81<br>  \n",
    "Цимбалюк Д.В.<br><br> \n",
    "Перевірив:<br>  \n",
    "Сігайов А.О.</div>\n",
    "<div align =\"center\"><br><br><br>  \n",
    "Київ КПІ 2019\n",
    "</div>"
   ]
  },
  {
   "cell_type": "markdown",
   "metadata": {},
   "source": [
    "## Варіант 18\n",
    "<br>\n",
    "\n",
    "**Умова завдання:**\n",
    "\n",
    "**Завдання 349.**\n",
    "Дано цілі числа$$ a_1, ..., а_n. $$Для кожного з чисел, що входять в послідовність$$ a_1, ..., а_n $$з'ясувати, скільки разів воно входить в цю послідовність. Результат представити у вигляді масиву рядків, перший з яких є$$ a_1 - k\\textrm{, де k-число входжень } а_1 \\textrm{ в послідовність } a_1, ..., а_n. $$Другий рядок буде мати вигляд $$a_і - m, \\textrm{де }a_і \\textrm{ - перший по порядку член послідовності, відмінний від }a_1,$$ а m - число входжень цього члена в послідовність.\n",
    "\n"
   ]
  },
  {
   "cell_type": "code",
   "execution_count": 1,
   "metadata": {},
   "outputs": [
    {
     "name": "stdout",
     "output_type": "stream",
     "text": [
      "Enter n: 12\n",
      "[0, 1, -3, 1, -3, -3, -1, 2, 5, 5, -2, 3]\n",
      "['0 — 1', '1 — 2', '2 — 1', '3 — 1', '5 — 2', '-2 — 1', '-3 — 3', '-1 — 1']\n"
     ]
    }
   ],
   "source": [
    "import random\n",
    "\n",
    "\n",
    "def func():\n",
    "    try:\n",
    "        n = int(input('Enter n: '))\n",
    "    except ValueError:\n",
    "        print('Value is not correct')\n",
    "        return\n",
    "    a = [random.randint(-5, 5) for i in range(0, n)]\n",
    "    print(a)\n",
    "    print(['{0} — {1}'.format(elem, a.count(elem)) for elem in set(a)])\n",
    "\n",
    "\n",
    "func()"
   ]
  },
  {
   "cell_type": "code",
   "execution_count": null,
   "metadata": {},
   "outputs": [],
   "source": []
  }
 ],
 "metadata": {
  "kernelspec": {
   "display_name": "Python 3",
   "language": "python",
   "name": "python3"
  },
  "language_info": {
   "codemirror_mode": {
    "name": "ipython",
    "version": 3
   },
   "file_extension": ".py",
   "mimetype": "text/x-python",
   "name": "python",
   "nbconvert_exporter": "python",
   "pygments_lexer": "ipython3",
   "version": "3.7.3"
  }
 },
 "nbformat": 4,
 "nbformat_minor": 2
}
