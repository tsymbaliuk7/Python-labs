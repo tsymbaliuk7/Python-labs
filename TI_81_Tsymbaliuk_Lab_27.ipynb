{
 "cells": [
  {
   "cell_type": "markdown",
   "metadata": {},
   "source": [
    "<div align = \"center\">\n",
    "Міністерство освіти і науки України<br>\n",
    "Національний технічний університет України<br>  \n",
    "\"Київський політехнічний інститут ім. Ігоря Сікорського\"<br>  \n",
    "Теплоенергетичний факультет<br>\n",
    "Кафедра автоматизації проектування енергетичних процесів та систем<br><br><br><br><br><br>       \n",
    "Лабораторна робота №27<br>\n",
    "з курсу<br>\n",
    "\"Основи програмування на скриптових мовах\"<br><br>\n",
    "Варіант №18\n",
    "</div><br><br><br><br><br><br><br><br>\n",
    "<div align = \"right\">\n",
    "Виконав:<br>\n",
    "Студент 2-го курсу<br>  \n",
    "ТЕФ<br>\n",
    "групи ТІ-81<br>  \n",
    "Цимбалюк Д.В.<br><br> \n",
    "Перевірив:<br>  \n",
    "Сігайов А.О.</div>\n",
    "<div align =\"center\"><br><br><br>  \n",
    "Київ КПІ 2019\n",
    "</div>"
   ]
  },
  {
   "cell_type": "markdown",
   "metadata": {},
   "source": [
    "## Варіант 18\n",
    "<br>\n",
    "\n",
    "**Умова завдання:**\n",
    "\n",
    "**Завдання 573.**\n",
    "\n",
    "Дано натуральні взаємно прості числа п, р. Використовуючи алгоритм, описаний в завданні 570а (алгоритм Евкліда), знайти \n",
    "натуральне m \n",
    "таке, що, по-перше,  $m < n$ і, по-друге, $nm$ при діленні на р дає залишок 1."
   ]
  },
  {
   "cell_type": "code",
   "execution_count": 6,
   "metadata": {
    "pycharm": {
     "is_executing": false,
     "name": "#%%\n"
    }
   },
   "outputs": [
    {
     "name": "stdout",
     "text": [
      "30*1%29 == 1: True\n"
     ],
     "output_type": "stream"
    }
   ],
   "source": [
    "from random import  randint\n",
    "from math import gcd\n",
    "\n",
    "n = randint(5, 40)\n",
    "p = [i for i in range(3, n) if gcd(n, i) == 1]\n",
    "p = p[randint(0, len(p) - 1)]\n",
    "m = max([i for i in range(1,p) if (i * n)%p == 1])\n",
    "print('{0}*{1}%{2} == 1: {3}'.format(n, m, p, (n * m)%p == 1))\n",
    "  "
   ]
  }
 ],
 "metadata": {
  "kernelspec": {
   "display_name": "Python 3",
   "language": "python",
   "name": "python3"
  },
  "language_info": {
   "codemirror_mode": {
    "name": "ipython",
    "version": 3
   },
   "file_extension": ".py",
   "mimetype": "text/x-python",
   "name": "python",
   "nbconvert_exporter": "python",
   "pygments_lexer": "ipython3",
   "version": "3.7.3"
  },
  "pycharm": {
   "stem_cell": {
    "cell_type": "raw",
    "source": [],
    "metadata": {
     "collapsed": false
    }
   }
  }
 },
 "nbformat": 4,
 "nbformat_minor": 2
}