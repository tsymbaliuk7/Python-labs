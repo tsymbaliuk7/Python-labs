{
 "cells": [
  {
   "cell_type": "markdown",
   "metadata": {},
   "source": [
    "<div align = \"center\">\n",
    "Міністерство освіти і науки України<br>\n",
    "Національний технічний університет України<br>  \n",
    "\"Київський політехнічний інститут ім. Ігоря Сікорського\"<br>  \n",
    "Теплоенергетичний факультет<br>\n",
    "Кафедра автоматизації проектування енергетичних процесів та систем<br><br><br><br><br><br>       \n",
    "Лабораторна робота №22<br>\n",
    "з курсу<br>\n",
    "\"Основи програмування на скриптових мовах\"<br><br>\n",
    "Варіант №18\n",
    "</div><br><br><br><br><br><br><br><br>\n",
    "<div align = \"right\">\n",
    "Виконав:<br>\n",
    "Студент 2-го курсу<br>  \n",
    "ТЕФ<br>\n",
    "групи ТІ-81<br>  \n",
    "Цимбалюк Д.В.<br><br> \n",
    "Перевірив:<br>  \n",
    "Сігайов А.О.</div>\n",
    "<div align =\"center\"><br><br><br>  \n",
    "Київ КПІ 2019\n",
    "</div>"
   ]
  },
  {
   "cell_type": "markdown",
   "metadata": {},
   "source": [
    "## Варіант 18\n",
    "<br>\n",
    "\n",
    "**Умова завдання:**\n",
    "\n",
    "**Завдання 429**\n",
    "\n",
    "Дано натуральні числа m, n, цілі числа $a_1, ..., a_n$, $b_1, ..., b_m$, $c_1, ..., c_{30}$. Отримати:\n",
    "\\begin{equation*}\n",
    "l =\n",
    " \\begin{cases}\n",
    "   min(b_1, ..., b_m) + min(c_1, ..., c_{30}), \\textrm{ при }|min(a_1, ..., a_n)| > 10\n",
    "   \\\\\n",
    "   1 + (max(c_1, ..., c_{30}))^2 \\textrm{ в іншому випадку}\n",
    " \\end{cases}\n",
    "\\end{equation*}"
   ]
  },
  {
   "cell_type": "code",
   "execution_count": 1,
   "metadata": {},
   "outputs": [
    {
     "name": "stdout",
     "output_type": "stream",
     "text": [
      "Enter n: 54\n",
      "Enter m: 23\n",
      "l = -55\n"
     ]
    }
   ],
   "source": [
    "from random import randint\n",
    "\n",
    "\n",
    "def main():\n",
    "    try:\n",
    "        n = int(input('Enter n: '))\n",
    "        m = int(input('Enter m: '))\n",
    "    except ValueError:\n",
    "        print('Value error')\n",
    "        return\n",
    "    a = [randint(-30, 30) for i in range(n)]\n",
    "    b = [randint(-30, 30) for i in range(m)]\n",
    "    c = [randint(-30, 30) for i in range(30)]\n",
    "    if abs(min(a)) > 10:\n",
    "        print('l =', min(b) + min(c))\n",
    "    else:\n",
    "        print('l =', 1 + max(c) ** 2)\n",
    "\n",
    "\n",
    "if __name__ == \"__main__\":\n",
    "    main()\n"
   ]
  }
 ],
 "metadata": {
  "kernelspec": {
   "display_name": "Python 3",
   "language": "python",
   "name": "python3"
  },
  "language_info": {
   "codemirror_mode": {
    "name": "ipython",
    "version": 3
   },
   "file_extension": ".py",
   "mimetype": "text/x-python",
   "name": "python",
   "nbconvert_exporter": "python",
   "pygments_lexer": "ipython3",
   "version": "3.7.3"
  }
 },
 "nbformat": 4,
 "nbformat_minor": 2
}
