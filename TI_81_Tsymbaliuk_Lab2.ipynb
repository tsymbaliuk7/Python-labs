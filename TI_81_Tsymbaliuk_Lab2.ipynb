{
 "cells": [
  {
   "cell_type": "markdown",
   "metadata": {},
   "source": [
    "<div align = \"center\">\n",
    "Міністерство освіти і науки України<br>\n",
    "Національний технічний університет України<br>  \n",
    "\"Київський політехнічний інститут ім. Ігоря Сікорського\"<br>  \n",
    "Теплоенергетичний факультет<br>\n",
    "Кафедра автоматизації проектування енергетичних процесів та систем<br><br><br><br><br><br>       \n",
    "Лабароторна робота №2<br>\n",
    "з курсу<br>\n",
    "\"Основи програмування на скриптових мовах\"<br><br>\n",
    "Варіант №18\n",
    "</div><br><br><br><br><br><br><br><br>\n",
    "<div align = \"right\">\n",
    "Виконав:<br>\n",
    "Студент 2-го курсу<br>  \n",
    "ТЕФ<br>\n",
    "групи ТІ-81<br>  \n",
    "Цимбалюк Д.В.<br><br> \n",
    "Перевірив:<br>  \n",
    "Сігайов А.О.</div>\n",
    "<div align =\"center\"><br><br><br>  \n",
    "Київ КПІ 2019\n",
    "</div>"
   ]
  },
  {
   "cell_type": "markdown",
   "metadata": {},
   "source": [
    "## Варіант 18\n",
    "<br>\n",
    "\n",
    "**Умова завдання:**\n",
    "Дано дійсні додатні числа а, b, c. За трьома сторонами з довжинами a, b, c можна побудувати трикутник. Знайти кути трикутника."
   ]
  },
  {
   "cell_type": "code",
   "execution_count": null,
   "metadata": {},
   "outputs": [],
   "source": [
    "def find_angles():\n",
    "    import math as m\n",
    "    # вводимо значення сторін з клавіатури\n",
    "    sides = {\"a\": 0, \"b\": 0,\"c\" : 0}\n",
    "    for each_side in sides:\n",
    "        print('Enter value of side #',each_side,':');\n",
    "        sides[each_side] = float(input())\n",
    "    # Перевіряємо правильність введених данних\n",
    "    if((sides[\"a\"] > 0 and sides[\"b\"] > 0 and sides[\"c\"] > 0) == 0): \n",
    "        print('Sides should be positive !!!')\n",
    "        return\n",
    "    # Шукаєм кути за теоремою косинусів і переводимо в градуси\n",
    "    angles = {\"a\": 0, \"b\": 0, \"c\": 0}\n",
    "    angles[\"a\"] = m.acos(((sides[\"b\"] ** 2) + (sides[\"c\"] ** 2) - (sides[\"a\"] ** 2))/(2 * sides[\"b\"] * sides[\"c\"])) * (180 / m.pi)\n",
    "    angles[\"b\"] = m.acos(((sides[\"a\"] ** 2) + (sides[\"c\"] ** 2) - (sides[\"b\"] ** 2))/(2 * sides[\"a\"] * sides[\"c\"])) * (180 / m.pi)\n",
    "    angles[\"c\"] = m.acos(((sides[\"a\"] ** 2) + (sides[\"b\"] ** 2) - (sides[\"c\"] ** 2))/(2 * sides[\"b\"] * sides[\"a\"])) * (180 / m.pi)\n",
    "    # Округлюємо і виводимо значення на екран\n",
    "    print('Angles of the traingle: ')\n",
    "    for each_angle in angles: print(round(angles[each_angle], 3), end = ' ')    "
   ]
  },
  {
   "cell_type": "code",
   "execution_count": 4,
   "metadata": {},
   "outputs": [
    {
     "name": "stdout",
     "output_type": "stream",
     "text": [
      "Enter value of side # a :\n",
      "3\n",
      "Enter value of side # b :\n",
      "3\n",
      "Enter value of side # c :\n",
      "3\n",
      "Angles of the traingle: \n",
      "60.0 60.0 60.0 "
     ]
    }
   ],
   "source": [
    "find_angles()"
   ]
  },
  {
   "cell_type": "code",
   "execution_count": 5,
   "metadata": {},
   "outputs": [
    {
     "name": "stdout",
     "output_type": "stream",
     "text": [
      "Enter value of side # a :\n",
      "3\n",
      "Enter value of side # b :\n",
      "4\n",
      "Enter value of side # c :\n",
      "5\n",
      "Angles of the traingle: \n",
      "36.87 53.13 90.0 "
     ]
    }
   ],
   "source": [
    "find_angles()"
   ]
  },
  {
   "cell_type": "code",
   "execution_count": 6,
   "metadata": {},
   "outputs": [
    {
     "name": "stdout",
     "output_type": "stream",
     "text": [
      "Enter value of side # a :\n",
      "4\n",
      "Enter value of side # b :\n",
      "4\n",
      "Enter value of side # c :\n",
      "7\n",
      "Angles of the traingle: \n",
      "28.955 28.955 122.09 "
     ]
    }
   ],
   "source": [
    "find_angles()"
   ]
  },
  {
   "cell_type": "code",
   "execution_count": null,
   "metadata": {},
   "outputs": [],
   "source": []
  }
 ],
 "metadata": {
  "kernelspec": {
   "display_name": "Python 3",
   "language": "python",
   "name": "python3"
  },
  "language_info": {
   "codemirror_mode": {
    "name": "ipython",
    "version": 3
   },
   "file_extension": ".py",
   "mimetype": "text/x-python",
   "name": "python",
   "nbconvert_exporter": "python",
   "pygments_lexer": "ipython3",
   "version": "3.7.3"
  }
 },
 "nbformat": 4,
 "nbformat_minor": 2
}
