{
 "cells": [
  {
   "cell_type": "markdown",
   "metadata": {},
   "source": [
    "<div align = \"center\">\n",
    "Міністерство освіти і науки України<br>\n",
    "Національний технічний університет України<br>  \n",
    "\"Київський політехнічний інститут ім. Ігоря Сікорського\"<br>  \n",
    "Теплоенергетичний факультет<br>\n",
    "Кафедра автоматизації проектування енергетичних процесів та систем<br><br><br><br><br><br>       \n",
    "Лабораторна робота №7<br>\n",
    "з курсу<br>\n",
    "\"Основи програмування на скриптових мовах\"<br><br>\n",
    "Варіант №18\n",
    "</div><br><br><br><br><br><br><br><br>\n",
    "<div align = \"right\">\n",
    "Виконав:<br>\n",
    "Студент 2-го курсу<br>  \n",
    "ТЕФ<br>\n",
    "групи ТІ-81<br>  \n",
    "Цимбалюк Д.В.<br><br> \n",
    "Перевірив:<br>  \n",
    "Сігайов А.О.</div>\n",
    "<div align =\"center\"><br><br><br>  \n",
    "Київ КПІ 2019\n",
    "</div>"
   ]
  },
  {
   "cell_type": "markdown",
   "metadata": {},
   "source": [
    "## Варіант 18\n",
    "<br>\n",
    "\n",
    "**Умова завдання:**\n",
    "\n",
    "**Завдання 116(а)**\n",
    "\n",
    "Дано натуральне число n, дійсне число х.\n",
    "\n",
    "Обчислити:\n",
    "$$ \\sum_{i = 1}^n {x^i \\over i!}  $$"
   ]
  },
  {
   "cell_type": "code",
   "execution_count": 3,
   "metadata": {},
   "outputs": [],
   "source": [
    "from math import factorial as fact\n",
    "\n",
    "\n",
    "def func():\n",
    "    n = int(input('Enter n: '))\n",
    "    x = float(input('Enter x: '))\n",
    "    print('%.2f' % sum([(x ** i) / fact(i) for i in range(1, n + 1)]))"
   ]
  },
  {
   "cell_type": "code",
   "execution_count": 5,
   "metadata": {},
   "outputs": [
    {
     "name": "stdout",
     "output_type": "stream",
     "text": [
      "Enter n: 3\n",
      "Enter x: 4\n",
      "22.67\n"
     ]
    }
   ],
   "source": [
    "func()"
   ]
  },
  {
   "cell_type": "code",
   "execution_count": null,
   "metadata": {},
   "outputs": [],
   "source": []
  }
 ],
 "metadata": {
  "kernelspec": {
   "display_name": "Python 3",
   "language": "python",
   "name": "python3"
  },
  "language_info": {
   "codemirror_mode": {
    "name": "ipython",
    "version": 3
   },
   "file_extension": ".py",
   "mimetype": "text/x-python",
   "name": "python",
   "nbconvert_exporter": "python",
   "pygments_lexer": "ipython3",
   "version": "3.7.3"
  }
 },
 "nbformat": 4,
 "nbformat_minor": 2
}
