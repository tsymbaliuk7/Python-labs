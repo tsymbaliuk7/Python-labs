{
 "cells": [
  {
   "cell_type": "markdown",
   "metadata": {},
   "source": [
    "<div align = \"center\">\n",
    "Міністерство освіти і науки України<br>\n",
    "Національний технічний університет України<br>  \n",
    "\"Київський політехнічний інститут ім. Ігоря Сікорського\"<br>  \n",
    "Теплоенергетичний факультет<br>\n",
    "Кафедра автоматизації проектування енергетичних процесів та систем<br><br><br><br><br><br>       \n",
    "Лабораторна робота №16<br>\n",
    "з курсу<br>\n",
    "\"Основи програмування на скриптових мовах\"<br><br>\n",
    "Варіант №18\n",
    "</div><br><br><br><br><br><br><br><br>\n",
    "<div align = \"right\">\n",
    "Виконав:<br>\n",
    "Студент 2-го курсу<br>  \n",
    "ТЕФ<br>\n",
    "групи ТІ-81<br>  \n",
    "Цимбалюк Д.В.<br><br> \n",
    "Перевірив:<br>  \n",
    "Сігайов А.О.</div>\n",
    "<div align =\"center\"><br><br><br>  \n",
    "Київ КПІ 2019\n",
    "</div>"
   ]
  },
  {
   "cell_type": "markdown",
   "metadata": {},
   "source": [
    "## Варіант 18\n",
    "<br>\n",
    "\n",
    "**Умова завдання:**\n",
    "\n",
    "**Завдання 299.**\n",
    "\n",
    "Дано дійсні числа $$ a_1,... , а_{26}.$$Потрібно помножити всі члени послідовності $$ a_1,... , а_{26}$$ на квадрат її найменшого члена, якщо $$a \\geq 0 ,$$ і на квадрат її найбільшого члена, якщо $$a < 0 .$$"
   ]
  },
  {
   "cell_type": "code",
   "execution_count": 1,
   "metadata": {},
   "outputs": [
    {
     "name": "stdout",
     "output_type": "stream",
     "text": [
      "[-4.514, 8.983, -7.83, 0.618, -4.819, 1.079, 9.622, 1.979, -5.09, -1.427, -4.576, 2.463, 6.026, 2.047, -9.45, 5.082, -0.173, 7.558, -8.294, -2.343, -1.994, -0.092, 5.658, 3.999, -1.615, -4.019]\n",
      "[-403.111, 802.204, -699.239, 55.189, -430.349, 96.357, 859.269, 176.73, -454.55, -127.435, -408.648, 219.952, 538.137, 182.802, -843.909, 453.835, -15.449, 674.948, -740.675, -209.236, -178.069, -8.216, 505.274, 357.121, -144.224, -358.907]\n"
     ]
    }
   ],
   "source": [
    "import random\n",
    "\n",
    "array = [round(random.uniform(-10, 10), 3) for i in range(0, 26)]\n",
    "print(array)\n",
    "print([round((min(array) ** 2) * elem, 3) if array[0] >= 0 else round((min(array) ** 2) * elem, 3) for elem in array])"
   ]
  }
 ],
 "metadata": {
  "kernelspec": {
   "display_name": "Python 3",
   "language": "python",
   "name": "python3"
  },
  "language_info": {
   "codemirror_mode": {
    "name": "ipython",
    "version": 3
   },
   "file_extension": ".py",
   "mimetype": "text/x-python",
   "name": "python",
   "nbconvert_exporter": "python",
   "pygments_lexer": "ipython3",
   "version": "3.7.3"
  }
 },
 "nbformat": 4,
 "nbformat_minor": 2
}
