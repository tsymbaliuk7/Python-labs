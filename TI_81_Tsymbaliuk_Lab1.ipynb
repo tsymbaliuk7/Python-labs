{
 "cells": [
  {
   "cell_type": "markdown",
   "metadata": {},
   "source": [
    "<div align = \"center\">\n",
    "Міністерство освіти і науки України<br>\n",
    "Національний технічний університет України<br>  \n",
    "\"Київський політехнічний інститут ім. Ігоря Сікорського\"<br>  \n",
    "Теплоенергетичний факультет<br>\n",
    "Кафедра автоматизації проектування енергетичних процесів та систем<br><br><br><br><br><br>       \n",
    "Лабароторна робота №1<br>\n",
    "з курсу<br>\n",
    "\"Основи програмування на скриптових мовах\"<br><br>\n",
    "Варіант №18\n",
    "</div><br><br><br><br><br><br><br><br>\n",
    "<div align = \"right\">\n",
    "Виконав:<br>\n",
    "Студент 2-го курсу<br>  \n",
    "ТЕФ<br>\n",
    "групи ТІ-81<br>  \n",
    "Цимбалюк Д.В.<br><br> \n",
    "Перевірив:<br>  \n",
    "Сігайов А.О.</div>\n",
    "<div align =\"center\"><br><br><br>  \n",
    "Київ КПІ 2019\n",
    "</div>\n",
    "  \n",
    "  \n",
    "  \n",
    "\n",
    "\n",
    "\n",
    "\n"
   ]
  },
  {
   "cell_type": "markdown",
   "metadata": {},
   "source": [
    "<br><br><br><br><br><br><br><br> \n",
    "## Варіант 18\n",
    "\n",
    "**Умова завдання:**\n",
    "Трикутник задано величинами своїх кутів і радіусом описаного кола. Знайти сторони трикутника."
   ]
  },
  {
   "cell_type": "code",
   "execution_count": 1,
   "metadata": {},
   "outputs": [],
   "source": [
    "\n",
    "def find_sides():\n",
    "    import math as m\n",
    "    # створюєм словник для кутів і вводимо їх значення з клавіатури\n",
    "    angles = {'a' : 0 , 'b' : 0, 'c' : 0}\n",
    "    for each_angle in angles:\n",
    "        print('Enter the angle #',each_angle,' (in degrees)\\n')\n",
    "        angles[each_angle] = float(input())\n",
    "    sum = 0\n",
    "     # перевіряємо чи задовільняють введені данні математичні правила\n",
    "    for name in angles : \n",
    "        if(angles[name] <= 0 or angles[name] >= 180):\n",
    "            print('Angle ', name, 'was editet incorrectly')\n",
    "            return\n",
    "        sum += angles[name]\n",
    "    if(sum != 180):\n",
    "        print('Sum of all angles should be 180 degrees')\n",
    "        return\n",
    "    # вводим радіус\n",
    "    print('Enter the radius \\n')\n",
    "    R = float(input())\n",
    "    sides = {'a' : 0 , 'b' : 0, 'c' : 0}\n",
    "    # знаходимо сторони за математичними формулами, при цьому переводимо значення кутів з градусів в радіани.\n",
    "    for each_side in sides: sides[each_side] = 2 * R * m.sin((angles[each_side] * m.pi)/180)\n",
    "    # виводим результати\n",
    "    print('Sides of the traingle: ', round(sides['a'], 3), ',', round(sides['b'], 3), ',', round(sides['c'], 3))"
   ]
  },
  {
   "cell_type": "code",
   "execution_count": 2,
   "metadata": {
    "scrolled": true
   },
   "outputs": [
    {
     "name": "stdout",
     "output_type": "stream",
     "text": [
      "Enter the angle # a  (in degrees)\n",
      "\n",
      "30\n",
      "Enter the angle # b  (in degrees)\n",
      "\n",
      "60\n",
      "Enter the angle # c  (in degrees)\n",
      "\n",
      "90\n",
      "Enter the radius \n",
      "\n",
      "8\n",
      "Sides of the traingle:  8.0 , 13.856 , 16.0\n"
     ]
    }
   ],
   "source": [
    "find_sides()"
   ]
  },
  {
   "cell_type": "code",
   "execution_count": 4,
   "metadata": {},
   "outputs": [
    {
     "name": "stdout",
     "output_type": "stream",
     "text": [
      "Enter the angle # a  (in degrees)\n",
      "\n",
      "3\n",
      "Enter the angle # b  (in degrees)\n",
      "\n",
      "4\n",
      "Enter the angle # c  (in degrees)\n",
      "\n",
      "5\n",
      "Sum of all angles should be 180 degrees\n"
     ]
    }
   ],
   "source": [
    "find_sides()"
   ]
  },
  {
   "cell_type": "code",
   "execution_count": 5,
   "metadata": {},
   "outputs": [
    {
     "name": "stdout",
     "output_type": "stream",
     "text": [
      "Enter the angle # a  (in degrees)\n",
      "\n",
      "45\n",
      "Enter the angle # b  (in degrees)\n",
      "\n",
      "45\n",
      "Enter the angle # c  (in degrees)\n",
      "\n",
      "90\n",
      "Enter the radius \n",
      "\n",
      "7\n",
      "Sides of the traingle:  9.899 , 9.899 , 14.0\n"
     ]
    }
   ],
   "source": [
    "find_sides()"
   ]
  },
  {
   "cell_type": "code",
   "execution_count": 6,
   "metadata": {},
   "outputs": [
    {
     "name": "stdout",
     "output_type": "stream",
     "text": [
      "Enter the angle # a  (in degrees)\n",
      "\n",
      "37\n",
      "Enter the angle # b  (in degrees)\n",
      "\n",
      "59\n",
      "Enter the angle # c  (in degrees)\n",
      "\n",
      "84\n",
      "Enter the radius \n",
      "\n",
      "4\n",
      "Sides of the traingle:  4.815 , 6.857 , 7.956\n"
     ]
    }
   ],
   "source": [
    "find_sides()"
   ]
  }
 ],
 "metadata": {
  "kernelspec": {
   "display_name": "Python 3",
   "language": "python",
   "name": "python3"
  },
  "language_info": {
   "codemirror_mode": {
    "name": "ipython",
    "version": 3
   },
   "file_extension": ".py",
   "mimetype": "text/x-python",
   "name": "python",
   "nbconvert_exporter": "python",
   "pygments_lexer": "ipython3",
   "version": "3.7.3"
  }
 },
 "nbformat": 4,
 "nbformat_minor": 2
}
