{
 "cells": [
  {
   "cell_type": "markdown",
   "metadata": {},
   "source": [
    "<div align = \"center\">\n",
    "Міністерство освіти і науки України<br>\n",
    "Національний технічний університет України<br>  \n",
    "\"Київський політехнічний інститут ім. Ігоря Сікорського\"<br>  \n",
    "Теплоенергетичний факультет<br>\n",
    "Кафедра автоматизації проектування енергетичних процесів та систем<br><br><br><br><br><br>       \n",
    "Лабораторна робота №28<br>\n",
    "з курсу<br>\n",
    "\"Основи програмування на скриптових мовах\"<br><br>\n",
    "Варіант №18\n",
    "</div><br><br><br><br><br><br><br><br>\n",
    "<div align = \"right\">\n",
    "Виконав:<br>\n",
    "Студент 2-го курсу<br>  \n",
    "ТЕФ<br>\n",
    "групи ТІ-81<br>  \n",
    "Цимбалюк Д.В.<br><br> \n",
    "Перевірив:<br>  \n",
    "Сігайов А.О.</div>\n",
    "<div align =\"center\"><br><br><br>  \n",
    "Київ КПІ 2019\n",
    "</div>"
   ]
  },
  {
   "cell_type": "markdown",
   "metadata": {},
   "source": [
    "## Варіант 18\n",
    "<br>\n",
    "\n",
    "**Умова завдання:**\n",
    "\n",
    "**Завдання 565.**\n",
    "\n",
    "Розглянемо деяке натуральне число $n$ $(n > 1)$. Якщо воно парне, то розділимо його на 2, інакше помножимо на 3 і додамо 1.\n",
    " Якщо отримане число не дорівнює 1, то повторюємо ту ж дію, поки не вийде 1. До теперішнього часу невідомо, \n",
    " чи завершується цей процес для будь-якого n> 1. Дано натуральні числа $k$, $l$, $m$ $(1 < k \\leq l )$. Перевірити, чи вірно, що для \n",
    " будь-якого натурального $n$ з діапазону від $k$ до $l$ процес завершується не пізніше, ніж після $m$ таких дій.\n"
   ]
  },
  {
   "cell_type": "code",
   "execution_count": 77,
   "metadata": {
    "pycharm": {
     "is_executing": false,
     "name": "#%%\n"
    }
   },
   "outputs": [
    {
     "name": "stdout",
     "text": [
      "l = 35, k = 22, m = 21\n[15, 15, 10, 23, 10, 111, 18, 18, 18, 106, 5, 26, 13, 13]\n[True, True, True, False, True, False, True, True, True, False, True, False, True, True]\n"
     ],
     "output_type": "stream"
    }
   ],
   "source": [
    "from random import  randint\n",
    "\n",
    "def func(n, counter = 0):\n",
    "    while n!= 1:\n",
    "        n = n/2 if n%2==0 else n*3+1\n",
    "        counter += 1\n",
    "    return counter\n",
    "\n",
    "\n",
    "l = randint(5, 50)\n",
    "k = randint(2, l)\n",
    "m = randint(5, 40)\n",
    "print('l = {}, k = {}, m = {}'.format(l, k, m))\n",
    "res = [func(i) for i in range(k, l+1)]\n",
    "print(res)\n",
    "print([m >= i for i in res])\n"
   ]
  }
 ],
 "metadata": {
  "kernelspec": {
   "display_name": "Python 3",
   "language": "python",
   "name": "python3"
  },
  "language_info": {
   "codemirror_mode": {
    "name": "ipython",
    "version": 3
   },
   "file_extension": ".py",
   "mimetype": "text/x-python",
   "name": "python",
   "nbconvert_exporter": "python",
   "pygments_lexer": "ipython3",
   "version": "3.7.3"
  },
  "pycharm": {
   "stem_cell": {
    "cell_type": "raw",
    "source": [],
    "metadata": {
     "collapsed": false
    }
   }
  }
 },
 "nbformat": 4,
 "nbformat_minor": 2
}